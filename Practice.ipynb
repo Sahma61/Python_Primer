{
 "cells": [
  {
   "cell_type": "code",
   "execution_count": 1,
   "id": "639fdcf3",
   "metadata": {},
   "outputs": [
    {
     "data": {
      "text/plain": [
       "False"
      ]
     },
     "execution_count": 1,
     "metadata": {},
     "output_type": "execute_result"
    }
   ],
   "source": [
    "\"\"\"\n",
    "Binary Search\n",
    "\"\"\"\n",
    "def binarySearch(nums: list, x: int) -> bool:\n",
    "    lo = 0\n",
    "    hi = len(nums) - 1\n",
    "    while lo <= hi:\n",
    "        mid = (hi + lo)//2\n",
    "        if nums[mid] < x:\n",
    "            lo = mid + 1\n",
    "        elif nums[mid] > x:\n",
    "            hi = mid - 1\n",
    "        else:\n",
    "            return True\n",
    "    return False\n",
    "\n",
    "nums = [x for x in range(10)]\n",
    "binarySearch(nums, 10)"
   ]
  },
  {
   "cell_type": "code",
   "execution_count": 2,
   "id": "53044864",
   "metadata": {},
   "outputs": [
    {
     "name": "stdout",
     "output_type": "stream",
     "text": [
      "1 2 3 4 \n",
      "4 3 2 1 \n"
     ]
    }
   ],
   "source": [
    "\"\"\"\n",
    "Reverse a LinkedList\n",
    "\"\"\"\n",
    "class Node:\n",
    "    def __init__(self, val):\n",
    "        self.val = val\n",
    "        self.next = None\n",
    "        \n",
    "\n",
    "def printL(head:Node):\n",
    "    temp = head\n",
    "    while temp != None:\n",
    "        print(temp.val, end = ' ')\n",
    "        temp = temp.next\n",
    "    print()\n",
    "\n",
    "#Iterative \n",
    "def reverse1(head: Node) -> Node:\n",
    "    if head == None:\n",
    "        return head\n",
    "    temp = head.next\n",
    "    rev = head\n",
    "    while temp != None:\n",
    "        aux = temp.next\n",
    "        temp.next = rev\n",
    "        rev = temp\n",
    "        temp = aux\n",
    "    head.next = None\n",
    "    return rev\n",
    "\n",
    "#Recursive\n",
    "def reverse2(head:Node) -> Node:\n",
    "    if head == None or head.next == None:\n",
    "        return head\n",
    "    rev = reverse2(head.next)\n",
    "    head.next.next = head\n",
    "    head.next = None\n",
    "    return rev\n",
    "\n",
    "head = Node(1)\n",
    "head.next = Node(2)\n",
    "head.next.next = Node(3)\n",
    "head.next.next.next = Node(4)\n",
    "printL(head)\n",
    "head = reverse2(head)\n",
    "printL(head)"
   ]
  },
  {
   "cell_type": "code",
   "execution_count": 3,
   "id": "8675fbb6",
   "metadata": {},
   "outputs": [
    {
     "name": "stdout",
     "output_type": "stream",
     "text": [
      "1 2 3 4 5 6 7 8 9 10 "
     ]
    }
   ],
   "source": [
    "#Priority Queue\n",
    "lst = [0]\n",
    "cur_sz = 0\n",
    "\n",
    "def insert(val):\n",
    "    global cur_sz\n",
    "    if len(lst)-1 == cur_sz:\n",
    "        lst.extend([0 for x in range(len(lst))])\n",
    "    lst[0] = val\n",
    "    cur_sz += 1\n",
    "    hole = cur_sz\n",
    "    while lst[hole//2] > val:\n",
    "        lst[hole] = lst[hole//2]\n",
    "        hole //= 2\n",
    "    lst[hole] = val\n",
    "\n",
    "def percolateDown(hole):\n",
    "    child = 0\n",
    "    temp = lst[hole]\n",
    "    while 2*hole <= cur_sz:\n",
    "        child = 2*hole\n",
    "        if child != cur_sz and lst[child] > lst[child+1]:\n",
    "            child += 1\n",
    "        if lst[child] < temp:\n",
    "            lst[hole] = lst[child]\n",
    "        else:\n",
    "            break\n",
    "        hole = child\n",
    "    lst[hole] = temp\n",
    "    \n",
    "def getMin():\n",
    "    global cur_sz\n",
    "    if(cur_sz == 0):\n",
    "        return -1\n",
    "    res = lst[1]\n",
    "    lst[1] = lst[cur_sz]\n",
    "    cur_sz -= 1\n",
    "    percolateDown(1)\n",
    "    return res\n",
    "\n",
    "arr = [x for x in range(10, 0, -1)]\n",
    "for x in arr:\n",
    "    insert(x)\n",
    "for x in arr:\n",
    "    print(getMin(), end = ' ')"
   ]
  },
  {
   "cell_type": "code",
   "execution_count": 4,
   "id": "c0d3e63a",
   "metadata": {},
   "outputs": [],
   "source": [
    "def perm(visited, arr, n):\n",
    "    if len(arr) == n:\n",
    "        print(arr)\n",
    "        return\n",
    "    for i in range(1, n+1):\n",
    "        if(visited[i-1]):\n",
    "            continue\n",
    "        visited[i-1] = 1\n",
    "        arr.append(i)\n",
    "        perm(visited, arr, n)\n",
    "        arr.pop()\n",
    "        visited[i-1] = 0\n",
    "\n",
    "n = 5\n",
    "visited = [0 for x in range(n)]\n",
    "#perm(visited, [], n)"
   ]
  },
  {
   "cell_type": "code",
   "execution_count": 5,
   "id": "76b22f71",
   "metadata": {},
   "outputs": [],
   "source": [
    "def subset(arr, x, n):\n",
    "    if x == n+1:\n",
    "        print(arr)\n",
    "        return\n",
    "    subset(arr, x+1, n)\n",
    "    arr.append(x)\n",
    "    subset(arr, x+1, n)\n",
    "    arr.pop()\n",
    "\n",
    "n = 5\n",
    "#subset([], 1, n)"
   ]
  },
  {
   "cell_type": "code",
   "execution_count": 6,
   "id": "c93157e2",
   "metadata": {},
   "outputs": [
    {
     "name": "stdout",
     "output_type": "stream",
     "text": [
      "abcda\n",
      "a 1\n",
      "ab 2\n",
      "abc 3\n",
      "abcd 4\n",
      "abcda 5\n",
      "5\n"
     ]
    }
   ],
   "source": [
    "#largest substring with each character appearing atmost k times\n",
    "s = input()\n",
    "cnt = {x:0 for x in s}\n",
    "start = 0\n",
    "maxLen = 0\n",
    "k = 2\n",
    "for i, char in enumerate(s):\n",
    "    cnt[char] += 1\n",
    "    if(cnt[char] > k):\n",
    "        while(start < i):\n",
    "            cnt[s[start]] -= 1\n",
    "            if cnt[s[start]] == k:\n",
    "                start += 1\n",
    "                break\n",
    "            start += 1\n",
    "    maxLen = max(maxLen, i-start+1)\n",
    "    print(s[start:i+1], i-start+1)\n",
    "print(maxLen)"
   ]
  },
  {
   "cell_type": "code",
   "execution_count": 36,
   "id": "1707cbaf",
   "metadata": {},
   "outputs": [
    {
     "name": "stdout",
     "output_type": "stream",
     "text": [
      "baaabab\n",
      "a*ab\n"
     ]
    },
    {
     "data": {
      "text/plain": [
       "0"
      ]
     },
     "execution_count": 36,
     "metadata": {},
     "output_type": "execute_result"
    }
   ],
   "source": [
    "#Wildcard Matching\n",
    "s1 = input()\n",
    "s2 = input()\n",
    "ln1 = len(s1) + 1\n",
    "ln2 = len(s2) + 1\n",
    "dp = [[0 for i in range(ln1)] for j in range(ln2)]\n",
    "dp[0][0] = 1\n",
    "for i in range(1, ln2):\n",
    "    if s2[i-1] == '*':\n",
    "        dp[i][0] = dp[i-1][0]\n",
    "        for j in range(1, ln1):\n",
    "            dp[i][j] = dp[i-1][j] or dp[i][j-1]\n",
    "        continue\n",
    "    for j in range(1, ln1): \n",
    "        if s2[i-1] == '?' and dp[i-1][j-1]:\n",
    "            dp[i][j] = 1\n",
    "        elif s2[i-1] == s1[j-1] and dp[i-1][j-1]:\n",
    "            dp[i][j] = 1\n",
    "dp[ln2-1][ln1-1]"
   ]
  },
  {
   "cell_type": "code",
   "execution_count": 17,
   "id": "b7beffa9",
   "metadata": {},
   "outputs": [
    {
     "data": {
      "text/plain": [
       "[1, 2, 3, 4, 5, 6, 7, 8, 9, 10]"
      ]
     },
     "execution_count": 17,
     "metadata": {},
     "output_type": "execute_result"
    }
   ],
   "source": [
    "#Merge Sort\n",
    "def mergeSort(arr, lo, hi):\n",
    "    if lo >= hi:\n",
    "        return\n",
    "    mid = (lo + hi)//2\n",
    "    mergeSort(arr, lo, mid)\n",
    "    mergeSort(arr, mid+1, hi)\n",
    "    merge(arr, lo, mid, hi)\n",
    "    \n",
    "def merge(arr, lo, mid, hi):\n",
    "    i = lo\n",
    "    j = mid + 1\n",
    "    temp = [0 for x in range(hi-lo+1)]\n",
    "    k = 0\n",
    "    while k < len(temp):\n",
    "        if i > mid:\n",
    "            temp[k] = arr[j]\n",
    "            j += 1\n",
    "        elif j > hi:\n",
    "            temp[k] = arr[i]\n",
    "            i += 1\n",
    "        elif arr[i] <= arr[j]:\n",
    "            temp[k] = arr[i]\n",
    "            i += 1\n",
    "        else:\n",
    "            temp[k] = arr[j]\n",
    "            j += 1\n",
    "        k += 1\n",
    "    for i, x in enumerate(temp):\n",
    "        arr[i+lo] = x\n",
    "            \n",
    "arr = [x for x in range(10, 0,-1)]\n",
    "mergeSort(arr, 0, len(arr)-1)\n",
    "arr"
   ]
  },
  {
   "cell_type": "code",
   "execution_count": 4,
   "id": "4e2e49d8",
   "metadata": {},
   "outputs": [
    {
     "data": {
      "text/plain": [
       "[0, 1, 1, 2, 2, 3, 3, 4, 4, 5, 5, 6, 6, 7, 7, 8, 8, 9, 9, 10]"
      ]
     },
     "execution_count": 4,
     "metadata": {},
     "output_type": "execute_result"
    }
   ],
   "source": [
    "#Quick Sort\n",
    "\n",
    "\"\"\"\n",
    "def medianof3(arr, lo, hi):\n",
    "    mid = (lo + hi)//2\n",
    "    if arr[lo] > arr[mid]:\n",
    "        arr[lo], arr[mid] = arr[mid], arr[lo]\n",
    "    if arr[hi] < arr[lo]:\n",
    "        arr[lo], arr[hi] = arr[hi], arr[lo]\n",
    "    if arr[hi] < arr[mid]:\n",
    "        arr[hi], arr[mid] = arr[mid], arr[hi]\n",
    "        \n",
    "    arr[hi], arr[mid] = arr[mid], arr[hi]\n",
    "    return arr[hi]\n",
    "\"\"\"\n",
    "\n",
    "import sys\n",
    "sys.setrecursionlimit(1000)\n",
    "\n",
    "def quickSort(arr, lo, hi):\n",
    "    if lo >= hi:\n",
    "        return\n",
    "    pivot = arr[(lo+hi)//2]\n",
    "    i = lo\n",
    "    j = hi\n",
    "    while i <= j:\n",
    "        if arr[i] < pivot:\n",
    "            i += 1\n",
    "        elif arr[j] > pivot:\n",
    "            j -= 1\n",
    "        else:\n",
    "            arr[i], arr[j] = arr[j], arr[i]\n",
    "            i += 1\n",
    "            j -= 1\n",
    "          \n",
    "    quickSort(arr, lo, j)\n",
    "    quickSort(arr, i, hi)\n",
    "    \n",
    "arr = [x for x in range(10, 0,-1)]\n",
    "arr.extend([x for x in range(10)])\n",
    "quickSort(arr, 0, len(arr)-1)\n",
    "arr"
   ]
  },
  {
   "cell_type": "code",
   "execution_count": 11,
   "id": "bdb9f56b",
   "metadata": {},
   "outputs": [
    {
     "data": {
      "text/plain": [
       "2"
      ]
     },
     "execution_count": 11,
     "metadata": {},
     "output_type": "execute_result"
    }
   ],
   "source": [
    "#Rainwater Trapping\n",
    "arr = [2, 0, 2]\n",
    "leftMax = 0\n",
    "rightMax = 0\n",
    "lo = 0\n",
    "hi = len(arr) - 1\n",
    "sum = 0\n",
    "while lo <= hi:\n",
    "    leftMax = max(arr[lo], leftMax)\n",
    "    rightMax = max(arr[hi], rightMax)\n",
    "    if leftMax < rightMax:\n",
    "        sum += leftMax - arr[lo]\n",
    "        lo += 1\n",
    "    else:\n",
    "        sum += rightMax - arr[hi]\n",
    "        hi -= 1\n",
    "        \n",
    "\"\"\"\n",
    "while lo <= hi:\n",
    "    if arr[lo] < arr[hi]:\n",
    "        if arr[lo] > leftMax:\n",
    "            leftMax = arr[lo]\n",
    "        else:\n",
    "            sum += leftMax - arr[lo]\n",
    "        lo += 1\n",
    "    else:\n",
    "        if arr[hi] > rightMax:\n",
    "            rightMax = arr[hi]\n",
    "        else:\n",
    "            sum += rightMax - arr[hi]\n",
    "        hi -= 1\n",
    "\"\"\"\n",
    "sum"
   ]
  },
  {
   "cell_type": "code",
   "execution_count": 1,
   "id": "29a79dfd",
   "metadata": {},
   "outputs": [
    {
     "name": "stdout",
     "output_type": "stream",
     "text": [
      "[0, 0, 1, 1, 2, 2, 3, 3, 4, 4, 5, 5, 6, 7, 8, 9]\n"
     ]
    },
    {
     "data": {
      "text/plain": [
       "16"
      ]
     },
     "execution_count": 1,
     "metadata": {},
     "output_type": "execute_result"
    }
   ],
   "source": [
    "#Binary Search(Left)\n",
    "def binarySearch(arr, x):\n",
    "    lo = 0\n",
    "    hi = len(arr)\n",
    "    while lo < hi:\n",
    "        mid = (lo+hi)//2\n",
    "        if arr[mid] >= x:\n",
    "            hi = mid\n",
    "        else:\n",
    "            lo = mid + 1\n",
    "    return lo\n",
    "arr = [x for x in range(10)] + [x for x in range(6)]\n",
    "arr.sort()\n",
    "print(arr)\n",
    "binarySearch(arr, 10)"
   ]
  },
  {
   "cell_type": "code",
   "execution_count": 3,
   "id": "ae42a240",
   "metadata": {},
   "outputs": [
    {
     "name": "stdout",
     "output_type": "stream",
     "text": [
      "[0, 0, 1, 1, 2, 2, 3, 3, 4, 4, 5, 5, 6, 7, 8, 9]\n"
     ]
    },
    {
     "data": {
      "text/plain": [
       "15"
      ]
     },
     "execution_count": 3,
     "metadata": {},
     "output_type": "execute_result"
    }
   ],
   "source": [
    "#Binary Search(Right)\n",
    "def binarySearch(arr, x):\n",
    "    lo = 0\n",
    "    hi = len(arr)\n",
    "    while lo < hi:\n",
    "        mid = (lo+hi)//2\n",
    "        if arr[mid] <= x:\n",
    "            lo = mid + 1\n",
    "        else:\n",
    "            hi = mid\n",
    "            \n",
    "    return hi - 1\n",
    "arr = [x for x in range(10)] + [x for x in range(6)]\n",
    "arr.sort()\n",
    "print(arr)\n",
    "binarySearch(arr, 10)"
   ]
  },
  {
   "cell_type": "code",
   "execution_count": 4,
   "id": "55f80104",
   "metadata": {},
   "outputs": [
    {
     "name": "stdout",
     "output_type": "stream",
     "text": [
      "[0, 0, 1, 1, 2, 2, 3, 3, 4, 4, 4, 10, 11, 12, 13, 14]\n"
     ]
    },
    {
     "data": {
      "text/plain": [
       "8"
      ]
     },
     "execution_count": 4,
     "metadata": {},
     "output_type": "execute_result"
    }
   ],
   "source": [
    "#Binary Search(Rank of an element)\n",
    "def binarySearch(arr, x):\n",
    "    lo = 0\n",
    "    hi = len(arr) - 1\n",
    "    while lo <= hi:\n",
    "        mid = (lo+hi)//2\n",
    "        if arr[mid] >= x:\n",
    "            hi = mid - 1\n",
    "        else:\n",
    "            lo = mid + 1\n",
    "            \n",
    "    return lo\n",
    "arr = [x for x in range(5)] * 2 + [x for x in range(10, 15)]\n",
    "arr.append(4)\n",
    "arr.sort()\n",
    "print(arr)\n",
    "binarySearch(arr, 4)"
   ]
  },
  {
   "cell_type": "code",
   "execution_count": 9,
   "id": "15484586",
   "metadata": {},
   "outputs": [
    {
     "name": "stdout",
     "output_type": "stream",
     "text": [
      "[1]\n",
      "[1, 3]\n",
      "[1, 3, 4]\n",
      "[1, 3, 4, 10]\n",
      "[1, 2, 4, 10]\n",
      "[1, 2, 3, 10]\n",
      "[1, 2, 3, 4]\n",
      "[1, 2, 3, 4, 5]\n"
     ]
    },
    {
     "data": {
      "text/plain": [
       "5"
      ]
     },
     "execution_count": 9,
     "metadata": {},
     "output_type": "execute_result"
    }
   ],
   "source": [
    "#LIS\n",
    "\n",
    "#Binary Search(Left)\n",
    "def binarySearch(arr, x):\n",
    "    lo = 0\n",
    "    hi = len(arr)\n",
    "    while lo < hi:\n",
    "        mid = (lo+hi)//2\n",
    "        if arr[mid] >= x:\n",
    "            hi = mid\n",
    "        else:\n",
    "            lo = mid + 1\n",
    "    return lo\n",
    "\n",
    "def LIS(arr):\n",
    "    lis = []\n",
    "    for x in arr:\n",
    "        if not lis:\n",
    "            lis.append(x)\n",
    "        if lis[-1] < x:\n",
    "            lis.append(x)\n",
    "        elif lis[-1] > x:\n",
    "            index = binarySearch(lis, x)\n",
    "            if lis[index] > x:\n",
    "                lis[index] = x\n",
    "        print(lis)\n",
    "    return len(lis)\n",
    "\n",
    "arr = [1, 3, 4, 10, 2, 3, 4, 5]\n",
    "LIS(arr)"
   ]
  },
  {
   "cell_type": "code",
   "execution_count": 2,
   "id": "4afd9361",
   "metadata": {},
   "outputs": [
    {
     "data": {
      "text/plain": [
       "[0, 0, 0, 0, 0, 1, 1, 1, 1, 1, 2, 2, 2, 2, 2]"
      ]
     },
     "execution_count": 2,
     "metadata": {},
     "output_type": "execute_result"
    }
   ],
   "source": [
    "\"\"\"\n",
    "Dutch national Flag Problem\n",
    "....i(not including) - 0s\n",
    "i...j(not including) - 1s\n",
    "j...k(including) - unsearched\n",
    "k+1.... - 2s\n",
    "\"\"\"\n",
    "arr = [0, 1, 2]*5\n",
    "i = 0\n",
    "j = 0\n",
    "k = len(arr)-1\n",
    "while j <= k:\n",
    "    if arr[j] < 1:\n",
    "        arr[i], arr[j] = arr[j], arr[i]\n",
    "        j += 1\n",
    "        i += 1\n",
    "    elif arr[j] > 1:\n",
    "        arr[j], arr[k] = arr[k], arr[j]\n",
    "        k -= 1\n",
    "    else:\n",
    "        j += 1\n",
    "        \n",
    "arr"
   ]
  },
  {
   "cell_type": "code",
   "execution_count": 8,
   "id": "ef7cd2a4",
   "metadata": {},
   "outputs": [
    {
     "data": {
      "text/plain": [
       "12"
      ]
     },
     "execution_count": 8,
     "metadata": {},
     "output_type": "execute_result"
    }
   ],
   "source": [
    "#Longest Balanced Parenthesis\n",
    "s = \"(((((())))))\"\n",
    "stk = [-1]\n",
    "maxLen = 0\n",
    "for x, ch in enumerate(s):\n",
    "    if ch == '(':\n",
    "        stk.append(x)\n",
    "    else:\n",
    "        stk.pop()\n",
    "        if not stk:\n",
    "            stk.append(x)\n",
    "        else:\n",
    "            maxLen = max(maxLen , x - stk[-1])\n",
    "maxLen"
   ]
  },
  {
   "cell_type": "code",
   "execution_count": 10,
   "id": "ddefb1c5",
   "metadata": {},
   "outputs": [
    {
     "name": "stdout",
     "output_type": "stream",
     "text": [
      "[0, 7, 9, 20, 20, 11]\n"
     ]
    },
    {
     "data": {
      "text/plain": [
       "11"
      ]
     },
     "execution_count": 10,
     "metadata": {},
     "output_type": "execute_result"
    }
   ],
   "source": [
    "#Dijkstra\n",
    "import heapq, math\n",
    "class PriorityQueue:\n",
    "    def __init__(self):\n",
    "        self.queue = []\n",
    "        self.count = 0\n",
    "    def push(self, priority, x):\n",
    "        heapq.heappush(self.queue, (priority, x))\n",
    "        self.count += 1\n",
    "    def pop(self):\n",
    "        self.count -= 1\n",
    "        return heapq.heappop(self.queue)[-1]\n",
    "    def isEmpty(self):\n",
    "        if self.count == 0:\n",
    "            return True\n",
    "        return False\n",
    "        \n",
    "def dijkstra(Graph, src, dst):\n",
    "    distance = [math.inf for x in Graph]\n",
    "    processed = [False for x in Graph]\n",
    "    q = PriorityQueue()\n",
    "    distance[src] = 0\n",
    "    q.push(0, src)\n",
    "    while not q.isEmpty():\n",
    "        u = q.pop()\n",
    "        if processed[u]:\n",
    "            continue\n",
    "        processed[u] = True\n",
    "        for v, w in Graph[u]:\n",
    "            if distance[v] > distance[u] + w:\n",
    "                distance[v] = distance[u] + w\n",
    "                q.push(distance[v], v)\n",
    "    print(distance)\n",
    "    return distance[dst]\n",
    "\n",
    "Graph = [\n",
    "    [(1, 7), (2, 9), (5, 14)],\n",
    "    [(0, 7), (2, 10), (3, 15)],\n",
    "    [(0, 9), (1, 10), (3, 11), (5, 2)],\n",
    "    [(1, 15), (2, 11), (4, 6)],\n",
    "    [(3, 6), (5, 9)],\n",
    "    [(0, 14), (2, 2), (4, 9)]\n",
    "]\n",
    "\n",
    "dijkstra(Graph, 0, 5)"
   ]
  },
  {
   "cell_type": "code",
   "execution_count": null,
   "id": "4f04fa8c",
   "metadata": {},
   "outputs": [],
   "source": []
  }
 ],
 "metadata": {
  "kernelspec": {
   "display_name": "Python 3 (ipykernel)",
   "language": "python",
   "name": "python3"
  },
  "language_info": {
   "codemirror_mode": {
    "name": "ipython",
    "version": 3
   },
   "file_extension": ".py",
   "mimetype": "text/x-python",
   "name": "python",
   "nbconvert_exporter": "python",
   "pygments_lexer": "ipython3",
   "version": "3.8.10"
  }
 },
 "nbformat": 4,
 "nbformat_minor": 5
}
