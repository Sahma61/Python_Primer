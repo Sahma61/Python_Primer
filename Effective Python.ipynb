{
 "cells": [
  {
   "cell_type": "code",
   "execution_count": 1,
   "id": "9ae587f8",
   "metadata": {},
   "outputs": [
    {
     "name": "stdout",
     "output_type": "stream",
     "text": [
      "Found\n",
      "[2, 3, 5, 7, 1, 4, 6, 8]\n"
     ]
    }
   ],
   "source": [
    "class Sorter(object):\n",
    "    def __init__(self, group):\n",
    "        self.group = group\n",
    "        self.found = False\n",
    "    \n",
    "    def __call__(self, x):\n",
    "        if x in self.group:\n",
    "            self.found = True\n",
    "            return (0, x)\n",
    "        return (1, x)\n",
    "\n",
    "numbers = [8, 3, 1, 2, 5, 4, 7, 6]\n",
    "group = {2, 3, 5, 7}\n",
    "sorter = Sorter(group)\n",
    "numbers.sort(key = sorter)\n",
    "assert sorter.found is True\n",
    "print('Found')\n",
    "print(numbers)"
   ]
  },
  {
   "cell_type": "code",
   "execution_count": 2,
   "id": "71914f1f",
   "metadata": {},
   "outputs": [],
   "source": [
    "numbers.sort(key=lambda x: -x)"
   ]
  },
  {
   "cell_type": "code",
   "execution_count": 3,
   "id": "ba167d8e",
   "metadata": {},
   "outputs": [
    {
     "data": {
      "text/plain": [
       "[8, 7, 6, 5, 4, 3, 2, 1]"
      ]
     },
     "execution_count": 3,
     "metadata": {},
     "output_type": "execute_result"
    }
   ],
   "source": [
    "numbers"
   ]
  },
  {
   "cell_type": "code",
   "execution_count": 39,
   "id": "e396a1ac",
   "metadata": {},
   "outputs": [
    {
     "name": "stdout",
     "output_type": "stream",
     "text": [
      "3\n"
     ]
    },
    {
     "data": {
      "text/plain": [
       "3"
      ]
     },
     "execution_count": 39,
     "metadata": {},
     "output_type": "execute_result"
    }
   ],
   "source": [
    "def sum(*args, **kwargs):\n",
    "    a = args[0]\n",
    "    b = args[1]\n",
    "    print(kwargs['a'] + kwargs['b'])\n",
    "    return a + b\n",
    "\n",
    "args = [1, 2]\n",
    "kwargs = dict()\n",
    "kwargs['a'] = args[0]\n",
    "kwargs['b'] = args[1]\n",
    "\n",
    "sum(*args, **kwargs)"
   ]
  },
  {
   "cell_type": "code",
   "execution_count": 40,
   "id": "18a74fd7",
   "metadata": {},
   "outputs": [
    {
     "data": {
      "text/plain": [
       "3"
      ]
     },
     "execution_count": 40,
     "metadata": {},
     "output_type": "execute_result"
    }
   ],
   "source": [
    "def sum(a, b):\n",
    "    return a + b\n",
    "\n",
    "args = [1, 2]\n",
    "sum(*args)"
   ]
  },
  {
   "cell_type": "code",
   "execution_count": 41,
   "id": "f5500fdf",
   "metadata": {},
   "outputs": [
    {
     "name": "stdout",
     "output_type": "stream",
     "text": [
      "Ramesh\n"
     ]
    }
   ],
   "source": [
    "class A:\n",
    "      def __init__(self, n = 'Rahul'):\n",
    "            self.name = n\n",
    "class B(A):\n",
    "      def __init__(self, roll):\n",
    "            super().__init__('Ramesh')\n",
    "            self.roll = roll\n",
    "  \n",
    "object = B(23)\n",
    "print (object.name)"
   ]
  },
  {
   "cell_type": "code",
   "execution_count": 42,
   "id": "98af04c4",
   "metadata": {},
   "outputs": [],
   "source": [
    "keys = {'a', 'e', 'i', 'o', 'u'}\n",
    "vowels = dict.fromkeys(keys, 0)"
   ]
  },
  {
   "cell_type": "code",
   "execution_count": 43,
   "id": "a508a71f",
   "metadata": {},
   "outputs": [
    {
     "data": {
      "text/plain": [
       "{'a': 0, 'i': 0, 'u': 0, 'o': 0, 'e': 0}"
      ]
     },
     "execution_count": 43,
     "metadata": {},
     "output_type": "execute_result"
    }
   ],
   "source": [
    "vowels"
   ]
  },
  {
   "cell_type": "code",
   "execution_count": 64,
   "id": "588031f4",
   "metadata": {},
   "outputs": [
    {
     "name": "stdout",
     "output_type": "stream",
     "text": [
      "[]\n"
     ]
    }
   ],
   "source": [
    "import builtins\n",
    "def genfunc():\n",
    "    for i in range(0, 10):\n",
    "        yield i\n",
    "        \n",
    "def normalize(numbers):\n",
    "    total = builtins.sum(numbers)\n",
    "    result = []\n",
    "    for value in numbers:\n",
    "        percent = 100 * value / total\n",
    "        result.append(percent)\n",
    "    return result\n",
    "        \n",
    "itr = genfunc()\n",
    "percentages = normalize(itr)\n",
    "print(percentages)"
   ]
  },
  {
   "cell_type": "code",
   "execution_count": 13,
   "id": "af03f8b9",
   "metadata": {},
   "outputs": [],
   "source": [
    "import collections\n",
    "Grade = collections.namedtuple('Grade', ('score', 'weight'))"
   ]
  },
  {
   "cell_type": "code",
   "execution_count": 15,
   "id": "47d5a76f",
   "metadata": {},
   "outputs": [],
   "source": [
    "abc = Grade(12, 32)"
   ]
  },
  {
   "cell_type": "code",
   "execution_count": 9,
   "id": "62fcb9d3",
   "metadata": {},
   "outputs": [
    {
     "name": "stdout",
     "output_type": "stream",
     "text": [
      "No. of instances created: 3\n"
     ]
    }
   ],
   "source": [
    "class Spam:\n",
    "    numInstances = 0\n",
    "    def __init__(self):\n",
    "        Spam.numInstances += 1\n",
    "    \n",
    "    @staticmethod\n",
    "    def printNumInstances():\n",
    "        print(\"No. of instances created: %s\" % Spam.numInstances)\n",
    "\n",
    "a = Spam()\n",
    "b = Spam()\n",
    "c = Spam()\n",
    "Spam.printNumInstances()"
   ]
  },
  {
   "cell_type": "markdown",
   "id": "5080ca77",
   "metadata": {},
   "source": [
    "### @property computed on fetch"
   ]
  },
  {
   "cell_type": "markdown",
   "id": "f07bb06b",
   "metadata": {},
   "source": [
    "# Decorators"
   ]
  },
  {
   "cell_type": "code",
   "execution_count": 9,
   "id": "034569c3",
   "metadata": {},
   "outputs": [
    {
     "name": "stdout",
     "output_type": "stream",
     "text": [
      "call 1 to spam\n",
      "6\n",
      "call 2 to spam\n",
      "abc\n",
      "call 3 to spam\n",
      "6\n"
     ]
    }
   ],
   "source": [
    "class tracer:\n",
    "    def __init__(self, func):\n",
    "        self.calls = 0\n",
    "        self.func = func\n",
    "    def __call__(self, *args):\n",
    "        self.calls += 1\n",
    "        print('call %s to %s' %(self.calls, self.func.__name__))\n",
    "        return self.func(*args)\n",
    "\n",
    "@tracer\n",
    "def spam(a, b, c):\n",
    "    return a + b + c\n",
    "print(spam(1, 2, 3))\n",
    "print(spam('a', 'b', 'c'))\n",
    "print(spam(1, 2, 3))"
   ]
  },
  {
   "cell_type": "code",
   "execution_count": 20,
   "id": "64408561",
   "metadata": {},
   "outputs": [
    {
     "name": "stdout",
     "output_type": "stream",
     "text": [
      "fact\n",
      "\n",
      "    A factorial function\n",
      "    \n",
      "{'n': <class 'int'>, 'return': <class 'int'>}\n",
      "<function fact at 0x7f7230358550>\n",
      "fact 2.384185791015625e-07\n",
      "fact 2.5033950805664062e-05\n",
      "fact 4.410743713378906e-05\n",
      "fact 6.198883056640625e-05\n",
      "fact 7.963180541992188e-05\n",
      "fact 9.751319885253906e-05\n",
      "fact 0.00011539459228515625\n",
      "fact 0.00013303756713867188\n",
      "fact 0.0001506805419921875\n",
      "fact 0.00016880035400390625\n",
      "fact 0.0001862049102783203\n"
     ]
    },
    {
     "data": {
      "text/plain": [
       "3628800"
      ]
     },
     "execution_count": 20,
     "metadata": {},
     "output_type": "execute_result"
    }
   ],
   "source": [
    "import time\n",
    "from functools import wraps\n",
    "def decorator(func):\n",
    "    @wraps(func)\n",
    "    def wrapper(*args, **kwargs):\n",
    "        start = time.time()\n",
    "        result = func(*args)\n",
    "        end = time.time()\n",
    "        print(func.__name__, end-start)\n",
    "        return result\n",
    "    return wrapper\n",
    "\n",
    "@decorator\n",
    "def fact(n: int) -> int:\n",
    "    '''\n",
    "    A factorial function\n",
    "    '''\n",
    "    if n == 1:\n",
    "        return 1\n",
    "    else:\n",
    "        return n*fact(n-1)\n",
    "\n",
    "a = decorator(fact)\n",
    "print(a.__name__)\n",
    "print(a.__doc__)\n",
    "print(a.__annotations__)\n",
    "print(a.__wrapped__)\n",
    "a(10)"
   ]
  },
  {
   "cell_type": "code",
   "execution_count": 41,
   "id": "e16fe9ab",
   "metadata": {},
   "outputs": [
    {
     "name": "stdout",
     "output_type": "stream",
     "text": [
      "fact 1.430511474609375e-06\n",
      "fact 0.0006632804870605469\n",
      "fact 0.0007619857788085938\n",
      "fact 0.0011491775512695312\n",
      "fact 0.0012958049774169922\n",
      "fact 0.0013895034790039062\n",
      "fact 0.0014846324920654297\n",
      "fact 0.0015718936920166016\n",
      "fact 0.0016617774963378906\n",
      "fact 0.0017611980438232422\n",
      "call_it 0.0018956661224365234\n",
      "call_it\n",
      "None\n",
      "{}\n"
     ]
    }
   ],
   "source": [
    "import time\n",
    "from functools import wraps\n",
    "def decorator(func):\n",
    "    #@wraps(func)\n",
    "    def call_it(*args, **kwargs):\n",
    "        start = time.time()\n",
    "        result = func(*args)\n",
    "        end = time.time()\n",
    "        print(func.__name__, end-start)\n",
    "        return result\n",
    "    return call_it\n",
    "\n",
    "@decorator\n",
    "def fact(n: int) -> int:\n",
    "    '''\n",
    "    A factorial function\n",
    "    '''\n",
    "    if n == 1:\n",
    "        return 1\n",
    "    else:\n",
    "        return n*fact(n-1)\n",
    "\n",
    "a = decorator(fact)\n",
    "a(10)\n",
    "print(fact.__name__)\n",
    "print(fact.__doc__)\n",
    "print(fact.__annotations__)"
   ]
  },
  {
   "cell_type": "code",
   "execution_count": 2,
   "id": "2069da90",
   "metadata": {},
   "outputs": [
    {
     "name": "stdout",
     "output_type": "stream",
     "text": [
      "[<__main__.Methods object at 0x7fe0687ab5e0>, 1]\n",
      "None\n",
      "[2]\n",
      "None\n",
      "[<class '__main__.Methods'>, 3]\n",
      "None\n",
      "Bob Methods\n"
     ]
    }
   ],
   "source": [
    "class Methods(object):\n",
    "    def imeth(self, x):\n",
    "        print([self, x])\n",
    "    \n",
    "    @staticmethod\n",
    "    def smeth(x):\n",
    "        print([x])\n",
    "        \n",
    "    @classmethod\n",
    "    def cmeth(cls, x):\n",
    "        print([cls, x])\n",
    "    \n",
    "    @property\n",
    "    def name(self):\n",
    "        return 'Bob ' + self.__class__.__name__\n",
    "    \n",
    "obj = Methods()\n",
    "print(obj.imeth(1))\n",
    "print(obj.smeth(2))\n",
    "print(obj.cmeth(3))\n",
    "print(obj.name)"
   ]
  },
  {
   "cell_type": "code",
   "execution_count": 47,
   "id": "c84ea154",
   "metadata": {},
   "outputs": [],
   "source": [
    "a = \"apple\"\n",
    "b = bytearray(a.encode())\n",
    "c = list(a)\n",
    "b[0] = ord('d')\n",
    "c[0] = 'c'\n",
    "c = ''.join(c)"
   ]
  },
  {
   "cell_type": "code",
   "execution_count": 48,
   "id": "bb14e2f5",
   "metadata": {},
   "outputs": [
    {
     "data": {
      "text/plain": [
       "'dpple'"
      ]
     },
     "execution_count": 48,
     "metadata": {},
     "output_type": "execute_result"
    }
   ],
   "source": [
    "b.decode()"
   ]
  },
  {
   "cell_type": "code",
   "execution_count": 49,
   "id": "20c6f930",
   "metadata": {},
   "outputs": [
    {
     "data": {
      "text/plain": [
       "'cpple'"
      ]
     },
     "execution_count": 49,
     "metadata": {},
     "output_type": "execute_result"
    }
   ],
   "source": [
    "c"
   ]
  },
  {
   "cell_type": "code",
   "execution_count": 3,
   "id": "df627e39",
   "metadata": {},
   "outputs": [
    {
     "data": {
      "text/plain": [
       "(1, 2)"
      ]
     },
     "execution_count": 3,
     "metadata": {},
     "output_type": "execute_result"
    }
   ],
   "source": [
    "class trial(object):\n",
    "    def __init__(self, x, y):\n",
    "        self._val1 = x\n",
    "        self.__val2 = y\n",
    "        \n",
    "    def access(self):\n",
    "        return self._val1, self.__val2\n",
    "    \n",
    "class test(trial):\n",
    "    def __init__(self, x, y):\n",
    "        super().__init__(x, y)\n",
    "    def access(self):\n",
    "        return self._val1\n",
    "t1 = trial(1, 2)\n",
    "t1.access()"
   ]
  },
  {
   "cell_type": "code",
   "execution_count": 36,
   "id": "18e1b483",
   "metadata": {},
   "outputs": [
    {
     "name": "stdout",
     "output_type": "stream",
     "text": [
      "I have 3 sides\n",
      "I have 4 sides\n",
      "I have 5 sides\n",
      "I have 6 sides\n"
     ]
    }
   ],
   "source": [
    "from abc import ABC, abstractmethod\n",
    "class Polygon(ABC):\n",
    "    @abstractmethod\n",
    "    def noofsides(self):\n",
    "        pass\n",
    "    \n",
    "class Triangle(Polygon):\n",
    "    def noofsides(self):\n",
    "        print(\"I have 3 sides\")\n",
    " \n",
    "class Pentagon(Polygon):\n",
    "    def noofsides(self):\n",
    "        print(\"I have 5 sides\")\n",
    " \n",
    "class Hexagon(Polygon):\n",
    "    def noofsides(self):\n",
    "        print(\"I have 6 sides\")\n",
    " \n",
    "class Quadrilateral(Polygon):\n",
    "    def noofsides(self):\n",
    "        print(\"I have 4 sides\")\n",
    "\n",
    "R = Triangle()\n",
    "R.noofsides()\n",
    " \n",
    "K = Quadrilateral()\n",
    "K.noofsides()\n",
    " \n",
    "R = Pentagon()\n",
    "R.noofsides()\n",
    " \n",
    "K = Hexagon()\n",
    "K.noofsides()"
   ]
  },
  {
   "cell_type": "code",
   "execution_count": 10,
   "id": "0ebe34bb",
   "metadata": {},
   "outputs": [
    {
     "name": "stdout",
     "output_type": "stream",
     "text": [
      "T-minus 10\n"
     ]
    }
   ],
   "source": [
    "import time\n",
    "def countdown(n):\n",
    "    while n > 0:\n",
    "        print('T-minus', n)\n",
    "        n -= 1\n",
    "        time.sleep(5)\n",
    "\n",
    "from threading import Thread\n",
    "t = Thread(target = countdown, args=(10,), daemon = True)\n",
    "t.start()"
   ]
  },
  {
   "cell_type": "code",
   "execution_count": 11,
   "id": "a44ac951",
   "metadata": {},
   "outputs": [
    {
     "name": "stdout",
     "output_type": "stream",
     "text": [
      "Still running\n",
      "T-minus 9\n"
     ]
    }
   ],
   "source": [
    "if t.is_alive():\n",
    "    print('Still running')\n",
    "else:\n",
    "    print('Completed')\n",
    "t.join()"
   ]
  },
  {
   "cell_type": "code",
   "execution_count": 18,
   "id": "5337f9d7",
   "metadata": {},
   "outputs": [
    {
     "name": "stdout",
     "output_type": "stream",
     "text": [
      "Launching Countdown\n",
      "Countdown Starting\n",
      "T-minus 10\n",
      "True\n",
      "True\n",
      "Countdown is Running\n",
      "T-minus 9\n",
      "T-minus 8\n",
      "T-minus 7\n",
      "T-minus 6\n",
      "T-minus 5\n",
      "T-minus 4\n",
      "T-minus 3\n",
      "T-minus 2\n",
      "T-minus 1\n"
     ]
    }
   ],
   "source": [
    "from threading import Thread, Event\n",
    "def countdown(n, started_evt):\n",
    "    print('Countdown Starting')\n",
    "    started_evt.set()\n",
    "    while n > 0:\n",
    "        print('T-minus', n)\n",
    "        n -= 1\n",
    "        time.sleep(1)\n",
    "    \n",
    "started_evt = Event()\n",
    "print('Launching Countdown')\n",
    "t = Thread(target = countdown, args =(10, started_evt))\n",
    "t.start()\n",
    "\n",
    "started_evt.wait()\n",
    "print('Countdown is Running')"
   ]
  },
  {
   "cell_type": "code",
   "execution_count": 18,
   "id": "cf3c227f",
   "metadata": {},
   "outputs": [
    {
     "name": "stdout",
     "output_type": "stream",
     "text": [
      "Working 0\n",
      "Working 1\n",
      "Working 2\n",
      "Working 3\n",
      "Working 4\n",
      "Working 5\n",
      "Working 6\n",
      "Working 7\n",
      "Working 8\n",
      "Working 9\n"
     ]
    }
   ],
   "source": [
    "from threading import Thread, Semaphore\n",
    "def worker(n, sema):\n",
    "    sema.acquire()\n",
    "    print('Working', n)\n",
    "    sema.release()\n",
    "    \n",
    "sema = Semaphore(1)\n",
    "nworkers = 10\n",
    "for n in range(nworkers):\n",
    "    t = Thread(target = worker, args = (n, sema,))\n",
    "    t.start()"
   ]
  },
  {
   "cell_type": "code",
   "execution_count": 29,
   "id": "3ed407d9",
   "metadata": {},
   "outputs": [
    {
     "name": "stdout",
     "output_type": "stream",
     "text": [
      "6\n"
     ]
    }
   ],
   "source": [
    "from queue import Queue\n",
    "import numpy as np\n",
    "from threading import Thread\n",
    "def Producer(out_q):\n",
    "    out_q.put(np.random.randint(1, 10))\n",
    "\n",
    "def Consumer(in_q):\n",
    "    print(in_q.get())\n",
    "    \n",
    "q = Queue()\n",
    "t1 = Thread(target = Producer, args = (q,))\n",
    "t2 = Thread(target = Consumer, args = (q,))\n",
    "t1.start()\n",
    "t2.start()"
   ]
  },
  {
   "cell_type": "markdown",
   "id": "538607ae",
   "metadata": {},
   "source": [
    "## popleft() and appendleft() works at the head, whereas append() and pop() works at the tail"
   ]
  },
  {
   "cell_type": "code",
   "execution_count": 6,
   "id": "b3e96c0d",
   "metadata": {},
   "outputs": [
    {
     "data": {
      "text/plain": [
       "5"
      ]
     },
     "execution_count": 6,
     "metadata": {},
     "output_type": "execute_result"
    }
   ],
   "source": [
    "from collections import deque\n",
    "q = deque()\n",
    "q.append(3)\n",
    "q.append(4)\n",
    "q.append(5)\n",
    "q.pop()"
   ]
  },
  {
   "cell_type": "code",
   "execution_count": 8,
   "id": "2a40ca95",
   "metadata": {},
   "outputs": [
    {
     "name": "stdout",
     "output_type": "stream",
     "text": [
      "[7, 5, 3]\n",
      "[1, 2, 3]\n"
     ]
    }
   ],
   "source": [
    "import heapq\n",
    "lst = [3, 5, 2, 1, 7]\n",
    "print(heapq.nlargest(3, lst)) #3 highest\n",
    "print(heapq.nsmallest(3, lst)) #3 smallest"
   ]
  },
  {
   "cell_type": "code",
   "execution_count": 12,
   "id": "f51aba69",
   "metadata": {},
   "outputs": [
    {
     "name": "stdout",
     "output_type": "stream",
     "text": [
      "[{'name': 'AAPL', 'shares': 50, 'price': 543.72}, {'name': 'IBM', 'shares': 100, 'price': 91.1}, {'name': 'HPQ', 'shares': 35, 'price': 31.75}]\n",
      "[{'name': 'YHOO', 'shares': 45, 'price': 16.35}, {'name': 'FB', 'shares': 200, 'price': 21.09}, {'name': 'HPQ', 'shares': 35, 'price': 31.75}]\n"
     ]
    }
   ],
   "source": [
    "portfolio = [\n",
    "    {'name':'IBM', 'shares':100, 'price':91.1},\n",
    "    {'name':'AAPL', 'shares':50, 'price':543.72},\n",
    "    {'name':'FB', 'shares':200, 'price':21.09},\n",
    "    {'name':'HPQ', 'shares':35, 'price':31.75},\n",
    "    {'name':'YHOO', 'shares':45, 'price':16.35}\n",
    "]\n",
    "print(heapq.nlargest(3, portfolio, key = lambda s: s['price'])) #3 highest\n",
    "print(heapq.nsmallest(3, portfolio, key = lambda s: s['price'])) #3 smallest"
   ]
  },
  {
   "cell_type": "code",
   "execution_count": 18,
   "id": "e2112d4e",
   "metadata": {},
   "outputs": [
    {
     "data": {
      "text/plain": [
       "'fer'"
      ]
     },
     "execution_count": 18,
     "metadata": {},
     "output_type": "execute_result"
    }
   ],
   "source": [
    "import heapq\n",
    "class PriorityQueue:\n",
    "    def __init__(self):\n",
    "        self._queue = []\n",
    "        self._index = 0\n",
    "    \n",
    "    def push(self, item, priority):\n",
    "        heapq.heappush(self._queue, (-priority, self._index, item))\n",
    "        self._index += 1\n",
    "        \n",
    "    def pop(self):\n",
    "        return heapq.heappop(self._queue)[-1]\n",
    "    \n",
    "q = PriorityQueue()\n",
    "q.push('foo', 1)\n",
    "q.push('bar', 2)\n",
    "q.push('fer', 4)\n",
    "q.pop()"
   ]
  },
  {
   "cell_type": "code",
   "execution_count": 37,
   "id": "067e75dc",
   "metadata": {},
   "outputs": [
    {
     "data": {
      "text/plain": [
       "[1, 2]"
      ]
     },
     "execution_count": 37,
     "metadata": {},
     "output_type": "execute_result"
    }
   ],
   "source": [
    "from collections import defaultdict\n",
    "d = defaultdict(list)\n",
    "d['a'].append(1)\n",
    "d['a'].append(2)\n",
    "d['a']"
   ]
  },
  {
   "cell_type": "code",
   "execution_count": 17,
   "id": "2fdf63d7",
   "metadata": {},
   "outputs": [
    {
     "data": {
      "text/plain": [
       "[2, 3, 4]"
      ]
     },
     "execution_count": 17,
     "metadata": {},
     "output_type": "execute_result"
    }
   ],
   "source": [
    "a, *b, c = [1, 2, 3, 4, 5]\n",
    "b"
   ]
  },
  {
   "cell_type": "code",
   "execution_count": 19,
   "id": "24c3193e",
   "metadata": {},
   "outputs": [
    {
     "data": {
      "text/plain": [
       "[20, 21, 22, 23, 24, 25, 26, 27, 28, 29]"
      ]
     },
     "execution_count": 19,
     "metadata": {},
     "output_type": "execute_result"
    }
   ],
   "source": [
    "temp = slice(20, 30)\n",
    "lst = [x for x in range(50)]\n",
    "lst[temp]"
   ]
  },
  {
   "cell_type": "code",
   "execution_count": 2,
   "id": "01af5ebd",
   "metadata": {},
   "outputs": [
    {
     "name": "stdout",
     "output_type": "stream",
     "text": [
      "(2, 3)\n"
     ]
    },
    {
     "data": {
      "text/plain": [
       "Pair(2, 3)"
      ]
     },
     "execution_count": 2,
     "metadata": {},
     "output_type": "execute_result"
    }
   ],
   "source": [
    "class Pair:\n",
    "    def __init__(self, x, y):\n",
    "        self.x = x\n",
    "        self.y = y\n",
    "    def __repr__(self):\n",
    "        return 'Pair({0.x!r}, {0.y!r})'.format(self)\n",
    "    def __str__(self):\n",
    "        return '({0.x!s}, {0.y!s})'.format(self)\n",
    "\n",
    "p = Pair(2, 3)\n",
    "print(p)\n",
    "p"
   ]
  },
  {
   "cell_type": "code",
   "execution_count": 23,
   "id": "30bcd3ae",
   "metadata": {},
   "outputs": [
    {
     "name": "stdout",
     "output_type": "stream",
     "text": [
      "Pair(2, 3)\n",
      "(2, 3)\n"
     ]
    }
   ],
   "source": [
    "print('{0!r}'.format(p))\n",
    "print('{0}'.format(p))"
   ]
  },
  {
   "cell_type": "code",
   "execution_count": 30,
   "id": "994976bf",
   "metadata": {},
   "outputs": [
    {
     "data": {
      "text/plain": [
       "12"
      ]
     },
     "execution_count": 30,
     "metadata": {},
     "output_type": "execute_result"
    }
   ],
   "source": [
    "class Trial:\n",
    "    def __init__(self, x, y):\n",
    "        self.x = x\n",
    "        self.y = y\n",
    "    def __call__(self):\n",
    "        return self.x * self.y\n",
    "    \n",
    "t = Trial(3, 4)\n",
    "t()"
   ]
  },
  {
   "cell_type": "code",
   "execution_count": 2,
   "id": "6f66de3d",
   "metadata": {},
   "outputs": [
    {
     "name": "stdout",
     "output_type": "stream",
     "text": [
      "b'<!doctype html>\\n<!--[if lt IE 7]>   <html class=\"no-js ie6 lt-ie7 lt-ie8 lt-ie9\">   <![endif]-->\\n<!--[if IE 7]>      <html class=\"no-js ie7 lt-ie8 lt-ie9\">          <![endif]-->\\n<!--[if IE 8]>      <html class=\"no-js ie8 lt-ie9\">                 <![endif]-->\\n<!--[if gt IE 8]><!--><html class=\"no-js\"'\n"
     ]
    }
   ],
   "source": [
    "import urllib.request\n",
    "with urllib.request.urlopen('http://www.python.org/') as f:\n",
    "    print(f.read(300))"
   ]
  },
  {
   "cell_type": "code",
   "execution_count": 5,
   "id": "8be24755",
   "metadata": {},
   "outputs": [
    {
     "name": "stdout",
     "output_type": "stream",
     "text": [
      "[0, 1, 4, 9, 16, 25, 36, 49, 64, 81] []\n"
     ]
    }
   ],
   "source": [
    "x = [i**2 for i in range(0, 10)]\n",
    "y = []\n",
    "for i,j in zip(x, y):\n",
    "    print(i, j)\n",
    "print(x, y)"
   ]
  },
  {
   "cell_type": "code",
   "execution_count": 6,
   "id": "619b1211",
   "metadata": {},
   "outputs": [
    {
     "name": "stdout",
     "output_type": "stream",
     "text": [
      "True\n"
     ]
    }
   ],
   "source": [
    "a = \"abcd\"\n",
    "b = \"abcd\"\n",
    "print(id(a) == id(b))"
   ]
  },
  {
   "cell_type": "code",
   "execution_count": 9,
   "id": "38cef054",
   "metadata": {},
   "outputs": [
    {
     "name": "stdout",
     "output_type": "stream",
     "text": [
      "139930878906672, 139930878906672\n"
     ]
    }
   ],
   "source": [
    "print(\"%i, %i\" %(id(a), id(b)))"
   ]
  },
  {
   "cell_type": "code",
   "execution_count": 12,
   "id": "2fdc4f8e",
   "metadata": {},
   "outputs": [
    {
     "name": "stdout",
     "output_type": "stream",
     "text": [
      "(1, 2, 3) {'a': 1, 'b': 2, 'c': 3, 'd': 4}\n"
     ]
    }
   ],
   "source": [
    "def func(*args, **kwargs):\n",
    "    print(args, kwargs)\n",
    "func(*[1, 2, 3], **{'a':1, 'b':2, 'c':3, 'd':4})"
   ]
  },
  {
   "cell_type": "code",
   "execution_count": 12,
   "id": "db84b6d3",
   "metadata": {},
   "outputs": [
    {
     "name": "stdout",
     "output_type": "stream",
     "text": [
      "[1, 2, [5, 4]] [1, 2, [5, 4]]\n"
     ]
    }
   ],
   "source": [
    "lst1 = [1,2,[3, 4]]\n",
    "lst2 = lst1[:]\n",
    "lst2[2][0] = 5\n",
    "print(lst1, lst2)"
   ]
  },
  {
   "cell_type": "code",
   "execution_count": 20,
   "id": "600c80c0",
   "metadata": {},
   "outputs": [
    {
     "data": {
      "text/plain": [
       "[1, 2, 3, 4]"
      ]
     },
     "execution_count": 20,
     "metadata": {},
     "output_type": "execute_result"
    }
   ],
   "source": [
    "import itertools\n",
    "a = [[1, 2], [3, 4]]\n",
    "b = list(itertools.chain(*a))\n",
    "b"
   ]
  },
  {
   "cell_type": "code",
   "execution_count": 18,
   "id": "d8e4e652",
   "metadata": {},
   "outputs": [
    {
     "data": {
      "text/plain": [
       "3"
      ]
     },
     "execution_count": 18,
     "metadata": {},
     "output_type": "execute_result"
    }
   ],
   "source": [
    "import sys\n",
    "sys.getrefcount(1002)"
   ]
  },
  {
   "cell_type": "markdown",
   "id": "6c7ba4cc",
   "metadata": {},
   "source": [
    "# Singleton"
   ]
  },
  {
   "cell_type": "code",
   "execution_count": 4,
   "id": "a7cdf986",
   "metadata": {},
   "outputs": [
    {
     "name": "stdout",
     "output_type": "stream",
     "text": [
      "Metaclass is called\n",
      "Metaclass call is called\n",
      "Spam instance created successfully\n",
      "Metaclass call is called\n",
      "Metaclass call is called\n"
     ]
    },
    {
     "data": {
      "text/plain": [
       "True"
      ]
     },
     "execution_count": 4,
     "metadata": {},
     "output_type": "execute_result"
    }
   ],
   "source": [
    "class Singleton(type):\n",
    "    def __init__(self, *args, **kwargs):\n",
    "        print('Metaclass is called')\n",
    "        self.__instance = None\n",
    "        super().__init__(*args, **kwargs)\n",
    "        \n",
    "    def __call__(self, *args, **kwargs):\n",
    "        print('Metaclass call is called')\n",
    "        if self.__instance is None:\n",
    "            self.__instance = super().__call__(*args, **kwargs)\n",
    "            return self.__instance\n",
    "        else:\n",
    "            return self.__instance\n",
    "        \n",
    "class Spam(metaclass = Singleton):\n",
    "    def __init__(self, x, y):\n",
    "        print('Spam instance created successfully')\n",
    "        self.x = x\n",
    "        self.y = y\n",
    "\n",
    "a = Spam(1, 2)\n",
    "b = Spam(2, 3)\n",
    "c = Spam(3, 4)\n",
    "a is b"
   ]
  },
  {
   "cell_type": "code",
   "execution_count": 5,
   "id": "80e7f1a3",
   "metadata": {},
   "outputs": [
    {
     "name": "stdout",
     "output_type": "stream",
     "text": [
      "A called\n",
      "C called\n"
     ]
    },
    {
     "data": {
      "text/plain": [
       "(__main__.C, __main__.A, __main__.B, object)"
      ]
     },
     "execution_count": 5,
     "metadata": {},
     "output_type": "execute_result"
    }
   ],
   "source": [
    "#Multiple Inheritance\n",
    "class A(object):\n",
    "    def __init__(self):\n",
    "        print('A called')\n",
    "\n",
    "class B(object):\n",
    "    def __init__(self):\n",
    "        print('B called')\n",
    "        \n",
    "class C(A, B):\n",
    "    def __init__(self):\n",
    "        super().__init__()\n",
    "        print('C called')\n",
    "        \n",
    "c = C()\n",
    "C.__mro__"
   ]
  },
  {
   "cell_type": "code",
   "execution_count": 3,
   "id": "ee9a091c",
   "metadata": {},
   "outputs": [
    {
     "name": "stdout",
     "output_type": "stream",
     "text": [
      "Base called\n",
      "B called\n",
      "A called\n",
      "C called\n"
     ]
    },
    {
     "data": {
      "text/plain": [
       "(__main__.C, __main__.A, __main__.B, __main__.Base, object)"
      ]
     },
     "execution_count": 3,
     "metadata": {},
     "output_type": "execute_result"
    }
   ],
   "source": [
    "class Base:\n",
    "    def __init__(self):\n",
    "        print('Base called')\n",
    "    \n",
    "class A(Base):\n",
    "    def __init__(self):\n",
    "        super().__init__()\n",
    "        print('A called')\n",
    "        \n",
    "class B(Base):\n",
    "    def __init__(self):\n",
    "        super().__init__()\n",
    "        print('B called')\n",
    "        \n",
    "class C(A, B):\n",
    "     def __init__(self):\n",
    "        super().__init__()\n",
    "        print('C called')\n",
    "        \n",
    "c = C()\n",
    "C.__mro__"
   ]
  },
  {
   "cell_type": "code",
   "execution_count": 13,
   "id": "8daab569",
   "metadata": {},
   "outputs": [
    {
     "data": {
      "text/plain": [
       "<list_iterator at 0x7f53ec1fa670>"
      ]
     },
     "execution_count": 13,
     "metadata": {},
     "output_type": "execute_result"
    }
   ],
   "source": [
    "a = [1, 2, 3, 4]\n",
    "iter(a)"
   ]
  },
  {
   "cell_type": "code",
   "execution_count": 7,
   "id": "dcfe897e",
   "metadata": {},
   "outputs": [
    {
     "name": "stdout",
     "output_type": "stream",
     "text": [
      "Node(1)\n",
      "Node(2)\n"
     ]
    }
   ],
   "source": [
    "class Node:\n",
    "    def __init__(self, value):\n",
    "        self._val = value\n",
    "        self._children = []\n",
    "    def add_child(self, node):\n",
    "        self._children.append(node)\n",
    "    def __iter__(self):\n",
    "        return iter(self._children)\n",
    "    def __repr__(self):\n",
    "        return 'Node({!r})'.format(self._val)\n",
    "\n",
    "a = Node(0)\n",
    "a.add_child(Node(1))\n",
    "a.add_child(Node(2))\n",
    "for ch in a:\n",
    "    print(ch)"
   ]
  },
  {
   "cell_type": "code",
   "execution_count": 33,
   "id": "c9b7d3d0",
   "metadata": {},
   "outputs": [
    {
     "name": "stdout",
     "output_type": "stream",
     "text": [
      "Node(0) Node(1) Node(3) Node(2) "
     ]
    }
   ],
   "source": [
    "class Node:\n",
    "    def __init__(self, value):\n",
    "        self._val = value\n",
    "        self._children = []\n",
    "    def add_child(self, node):\n",
    "        self._children.append(node)\n",
    "    def __iter__(self):\n",
    "        return iter(self._children)\n",
    "    def depth_first(self):\n",
    "        yield self\n",
    "        for c in self:\n",
    "            yield from c.depth_first()\n",
    "    def __repr__(self):\n",
    "        return '({!r})'.format(self._val)\n",
    "    def __str__(self):\n",
    "        return 'Node({!s})'.format(self._val)\n",
    "\n",
    "root = Node(0)\n",
    "child1 = Node(1)\n",
    "child2 = Node(2)\n",
    "root.add_child(child1)\n",
    "root.add_child(child2)\n",
    "child3 = Node(3)\n",
    "child1.add_child(child3)\n",
    "for ch in root.depth_first():\n",
    "    print(ch, end = ' ')"
   ]
  },
  {
   "cell_type": "code",
   "execution_count": 34,
   "id": "a4a37a73",
   "metadata": {},
   "outputs": [
    {
     "name": "stdout",
     "output_type": "stream",
     "text": [
      "0 0\n",
      "1 1\n",
      "2 2\n",
      "3 3\n",
      "4 4\n",
      "5 5\n",
      "6 6\n",
      "7 7\n",
      "8 8\n",
      "9 9\n"
     ]
    }
   ],
   "source": [
    "a = iter([x for x in range(10)])\n",
    "def get_data(inl, fnl, inc):\n",
    "    i = inl\n",
    "    while i < fnl:\n",
    "        yield i\n",
    "        i += 1\n",
    "b = get_data(0, 10, 1)\n",
    "for x, y in zip(a, b):\n",
    "    try:\n",
    "        assert x == y\n",
    "        print(x, y)\n",
    "    except AssertionError as e:\n",
    "        print('Assertion Failed, exiting now!')"
   ]
  },
  {
   "cell_type": "code",
   "execution_count": null,
   "id": "78fb7b32",
   "metadata": {},
   "outputs": [],
   "source": []
  }
 ],
 "metadata": {
  "kernelspec": {
   "display_name": "Python 3 (ipykernel)",
   "language": "python",
   "name": "python3"
  },
  "language_info": {
   "codemirror_mode": {
    "name": "ipython",
    "version": 3
   },
   "file_extension": ".py",
   "mimetype": "text/x-python",
   "name": "python",
   "nbconvert_exporter": "python",
   "pygments_lexer": "ipython3",
   "version": "3.8.10"
  }
 },
 "nbformat": 4,
 "nbformat_minor": 5
}
